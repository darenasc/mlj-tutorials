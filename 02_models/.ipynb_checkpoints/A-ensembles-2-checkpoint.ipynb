{
 "cells": [
  {
   "cell_type": "markdown",
   "metadata": {},
   "source": [
    "## Prelims\n",
    "\n",
    "This tutorial builds upon the previous ensemble tutorial with a home-made Random Forest regressor on the \"boston\" dataset."
   ]
  },
  {
   "cell_type": "code",
   "execution_count": null,
   "metadata": {},
   "outputs": [],
   "source": [
    "using MLJ, PyPlot, PrettyPrinting, Random,\n",
    "      DataFrames\n",
    "MLJ.color_off() # hide\n",
    "X, y = @load_boston\n",
    "sch = schema(X)\n",
    "p = length(sch.names)\n",
    "n = sch.nrows\n",
    "@show (n, p)\n",
    "describe(y)"
   ]
  },
  {
   "cell_type": "markdown",
   "metadata": {},
   "source": [
    "Let's load the decision tree regressor"
   ]
  },
  {
   "cell_type": "code",
   "execution_count": null,
   "metadata": {},
   "outputs": [],
   "source": [
    "@load DecisionTreeRegressor"
   ]
  },
  {
   "cell_type": "markdown",
   "metadata": {},
   "source": [
    "Let's first check the performances of just a single Decision Tree Regressor (DTR for short):"
   ]
  },
  {
   "cell_type": "code",
   "execution_count": null,
   "metadata": {},
   "outputs": [],
   "source": [
    "tree = machine(DecisionTreeRegressor(), X, y)\n",
    "e = evaluate!(tree, resampling=Holdout(fraction_train=0.8),\n",
    "              measure=[rms, rmslp1])\n",
    "e |> pprint"
   ]
  },
  {
   "cell_type": "markdown",
   "metadata": {},
   "source": [
    "Note that multiple measures can be reported simultaneously."
   ]
  },
  {
   "cell_type": "markdown",
   "metadata": {},
   "source": [
    "## Random forest\n",
    "\n",
    "Let's create an ensemble of DTR and fix the number of subfeatures to 3 for now."
   ]
  },
  {
   "cell_type": "code",
   "execution_count": null,
   "metadata": {},
   "outputs": [],
   "source": [
    "forest = EnsembleModel(atom=DecisionTreeRegressor())\n",
    "forest.atom.n_subfeatures = 3"
   ]
  },
  {
   "cell_type": "markdown",
   "metadata": {},
   "source": [
    "(**NB**: we could have fixed `n_subfeatures` in the DTR constructor too).\n",
    "\n",
    "To get an idea of how many trees are needed, we can follow the evaluation of the error (say the `rms`) for an increasing number of tree over several sampling round."
   ]
  },
  {
   "cell_type": "code",
   "execution_count": null,
   "metadata": {},
   "outputs": [],
   "source": [
    "Random.seed!(5) # for reproducibility\n",
    "m = machine(forest, X, y)\n",
    "r = range(forest, :n, lower=10, upper=1000)\n",
    "curves = learning_curve!(m, resampling=Holdout(fraction_train=0.8),\n",
    "                         range=r, measure=rms);"
   ]
  },
  {
   "cell_type": "markdown",
   "metadata": {},
   "source": [
    "let's plot the curves"
   ]
  },
  {
   "cell_type": "code",
   "execution_count": null,
   "metadata": {},
   "outputs": [],
   "source": [
    "figure(figsize=(8,6))\n",
    "plot(curves.parameter_values, curves.measurements)\n",
    "xlabel(\"Number of trees\", fontsize=14)\n",
    "xticks([10, 250, 500, 750, 1000])\n",
    "ylim([4, 5])\n",
    "\n",
    "savefig(joinpath(@OUTPUT, \"A-ensembles-2-curves.svg\")) # hide"
   ]
  },
  {
   "cell_type": "markdown",
   "metadata": {},
   "source": [
    "\\figalt{RMS vs number of trees}{A-ensembles-2-curves.svg}\n",
    "\n",
    "So out of this curve we could decide for instance to go for 300 trees:"
   ]
  },
  {
   "cell_type": "code",
   "execution_count": null,
   "metadata": {},
   "outputs": [],
   "source": [
    "forest.n = 300;"
   ]
  },
  {
   "cell_type": "markdown",
   "metadata": {},
   "source": [
    "### Tuning\n",
    "\n",
    "As `forest` is a composite model, it has nested hyperparameters:"
   ]
  },
  {
   "cell_type": "code",
   "execution_count": null,
   "metadata": {},
   "outputs": [],
   "source": [
    "params(forest) |> pprint"
   ]
  },
  {
   "cell_type": "markdown",
   "metadata": {},
   "source": [
    "Let's define a range for the number of subfeatures and for the bagging fraction:"
   ]
  },
  {
   "cell_type": "code",
   "execution_count": null,
   "metadata": {},
   "outputs": [],
   "source": [
    "r_sf = range(forest, :(atom.n_subfeatures), lower=1, upper=12)\n",
    "r_bf = range(forest, :bagging_fraction, lower=0.4, upper=1.0);"
   ]
  },
  {
   "cell_type": "markdown",
   "metadata": {},
   "source": [
    "And build a tuned model as usual that we fit on a 80/20 split.\n",
    "We use a low-resolution grid here to make this tutorial faster but you could of course use a finer grid."
   ]
  },
  {
   "cell_type": "code",
   "execution_count": null,
   "metadata": {},
   "outputs": [],
   "source": [
    "tuned_forest = TunedModel(model=forest,\n",
    "                          tuning=Grid(resolution=3),\n",
    "                          resampling=CV(nfolds=6, rng=32),\n",
    "                          ranges=[r_sf, r_bf],\n",
    "                          measure=rms)\n",
    "m = machine(tuned_forest, X, y)\n",
    "e = evaluate!(m, resampling=Holdout(fraction_train=0.8),\n",
    "              measure=[rms, rmslp1])\n",
    "e |> pprint"
   ]
  },
  {
   "cell_type": "markdown",
   "metadata": {},
   "source": [
    "### Reporting\n",
    "Again, you could show a 2D heatmap of the hyperparameters"
   ]
  },
  {
   "cell_type": "code",
   "execution_count": null,
   "metadata": {},
   "outputs": [],
   "source": [
    "r = report(m)\n",
    "\n",
    "figure(figsize=(8,6))\n",
    "\n",
    "res = r.plotting\n",
    "\n",
    "vals_sf = res.parameter_values[:, 1]\n",
    "vals_bf = res.parameter_values[:, 2]\n",
    "\n",
    "tricontourf(vals_sf, vals_bf, res.measurements)\n",
    "xticks(1:3:12, fontsize=12)\n",
    "xlabel(\"Number of sub-features\", fontsize=14)\n",
    "yticks(0.4:0.2:1, fontsize=12)\n",
    "ylabel(\"Bagging fraction\", fontsize=14)\n",
    "\n",
    "savefig(joinpath(@OUTPUT, \"A-ensembles-2-heatmap.svg\")) # hide"
   ]
  },
  {
   "cell_type": "markdown",
   "metadata": {},
   "source": [
    "\\fig{A-ensembles-2-heatmap.svg}\n",
    "\n",
    "Even though we've only done a very rough search, it seems that around 7 sub-features and a bagging fraction of around `0.75` work well.\n",
    "\n",
    "Now that the machine `m` is trained, you can use use it for predictions (implicitly, this will use the best model).\n",
    "For instance we could look at predictions on the whole dataset:"
   ]
  },
  {
   "cell_type": "code",
   "execution_count": null,
   "metadata": {},
   "outputs": [],
   "source": [
    "ŷ = predict(m, X)\n",
    "rms(ŷ, y)\n",
    "\n",
    "PyPlot.close_figs() # hide"
   ]
  },
  {
   "cell_type": "markdown",
   "metadata": {},
   "source": [
    "---\n",
    "\n",
    "*This notebook was generated using [Literate.jl](https://github.com/fredrikekre/Literate.jl).*"
   ]
  }
 ],
 "metadata": {
  "kernelspec": {
   "display_name": "Julia 1.2.0",
   "language": "julia",
   "name": "julia-1.2"
  },
  "language_info": {
   "file_extension": ".jl",
   "mimetype": "application/julia",
   "name": "julia",
   "version": "1.5.0-DEV.350"
  }
 },
 "nbformat": 4,
 "nbformat_minor": 3
}
