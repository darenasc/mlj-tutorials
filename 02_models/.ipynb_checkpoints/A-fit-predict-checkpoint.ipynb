{
 "cells": [
  {
   "cell_type": "markdown",
   "metadata": {},
   "source": [
    "[MLJ.jl]: https://github.com/alan-turing-institute/MLJ.jl\n",
    "[RDatasets.jl]: https://github.com/JuliaStats/RDatasets.jl\n",
    "[DecisionTree.jl]: https://github.com/bensadeghi/DecisionTree.jl\n",
    "\n",
    "## Preliminary steps\n",
    "\n",
    "### Data\n",
    "\n",
    "As in \"[choosing a model](/getting-started/choosing-a-model/)\", let's load the Iris dataset and unpack it:"
   ]
  },
  {
   "cell_type": "code",
   "execution_count": null,
   "metadata": {},
   "outputs": [],
   "source": [
    "using MLJ, Statistics, PrettyPrinting\n",
    "MLJ.color_off() # hide\n",
    "X, y = @load_iris;"
   ]
  },
  {
   "cell_type": "markdown",
   "metadata": {},
   "source": [
    "let's also load the `DecisionTreeClassifier`:"
   ]
  },
  {
   "cell_type": "code",
   "execution_count": null,
   "metadata": {},
   "outputs": [],
   "source": [
    "@load DecisionTreeClassifier\n",
    "tree_model = DecisionTreeClassifier()"
   ]
  },
  {
   "cell_type": "markdown",
   "metadata": {},
   "source": [
    "### MLJ Machine\n",
    "\n",
    "In MLJ, remember that a *model* is an object that only serves as a container for the hyperparameters of the model.\n",
    "A *machine* is an object wrapping both a model and data and can contain information on the *trained* model; it does *not* fit the model by itself.\n",
    "However, it does check that the model is compatible with the scientific type of the data and will warn you otherwise."
   ]
  },
  {
   "cell_type": "code",
   "execution_count": null,
   "metadata": {},
   "outputs": [],
   "source": [
    "tree = machine(tree_model, X, y)"
   ]
  },
  {
   "cell_type": "markdown",
   "metadata": {},
   "source": [
    "A machine is used both for supervised and unsupervised model.\n",
    "In this tutorial we give an example for the supervised model first and then go on with the unsupervised case.\n",
    "\n",
    "## Training and testing a supervised model\n",
    "\n",
    "Now that you've declared the model you'd like to consider and the data, we are left with the standard training and testing step for a supervised learning algorithm.\n",
    "\n",
    "### Splitting the data\n",
    "\n",
    "To split the data into a *training* and *testing* set, you can use the function `partition` to obtain indices for data points that should be considered either as training or testing data:"
   ]
  },
  {
   "cell_type": "code",
   "execution_count": null,
   "metadata": {},
   "outputs": [],
   "source": [
    "train, test = partition(eachindex(y), 0.7, shuffle=true)\n",
    "test[1:3]"
   ]
  },
  {
   "cell_type": "markdown",
   "metadata": {},
   "source": [
    "### Fitting and testing the machine\n",
    "\n",
    "To fit the machine, you can use the function `fit!` specifying the rows to be used for the training:"
   ]
  },
  {
   "cell_type": "code",
   "execution_count": null,
   "metadata": {},
   "outputs": [],
   "source": [
    "fit!(tree, rows=train)"
   ]
  },
  {
   "cell_type": "markdown",
   "metadata": {},
   "source": [
    "Note that this **modifies** the machine which now contains the trained parameters of the decision tree.\n",
    "You can inspect the result of the fitting with the `fitted_params` method:"
   ]
  },
  {
   "cell_type": "code",
   "execution_count": null,
   "metadata": {},
   "outputs": [],
   "source": [
    "fitted_params(tree) |> pprint"
   ]
  },
  {
   "cell_type": "markdown",
   "metadata": {},
   "source": [
    "This `fitresult` will vary from model to model though classifiers will usually give out a tuple with the first element corresponding to the fitting and the second one keeping track of how classes are named (so that predictions can be appropriately named).\n",
    "\n",
    "You can now use the machine to make predictions with the `predict` function specifying rows to be used for the prediction:"
   ]
  },
  {
   "cell_type": "code",
   "execution_count": null,
   "metadata": {},
   "outputs": [],
   "source": [
    "ŷ = predict(tree, rows=test)\n",
    "@show ŷ[1]"
   ]
  },
  {
   "cell_type": "markdown",
   "metadata": {},
   "source": [
    "Note that the output is *probabilistic*, effectively a vector with a score for each class.\n",
    "You could get the mode by using the `mode` function on `ŷ` or using `predict_mode`:"
   ]
  },
  {
   "cell_type": "code",
   "execution_count": null,
   "metadata": {},
   "outputs": [],
   "source": [
    "ȳ = predict_mode(tree, rows=test)\n",
    "@show ȳ[1]\n",
    "@show mode(ŷ[1])"
   ]
  },
  {
   "cell_type": "markdown",
   "metadata": {},
   "source": [
    "To measure the discrepancy between `ŷ` and `y` you could use the average cross entropy:"
   ]
  },
  {
   "cell_type": "code",
   "execution_count": null,
   "metadata": {},
   "outputs": [],
   "source": [
    "mce = cross_entropy(ŷ, y[test]) |> mean\n",
    "round(mce, digits=4)"
   ]
  },
  {
   "cell_type": "markdown",
   "metadata": {},
   "source": [
    "## Unsupervised models\n",
    "\n",
    "Unsupervised models define a `transform` method,\n",
    "and may optionally implement an `inverse_transform` method.\n",
    "As in the supervised case, we use a machine to wrap the unsupervised model and the data:"
   ]
  },
  {
   "cell_type": "code",
   "execution_count": null,
   "metadata": {},
   "outputs": [],
   "source": [
    "v = [1, 2, 3, 4]\n",
    "stand_model = UnivariateStandardizer()\n",
    "stand = machine(stand_model, v)"
   ]
  },
  {
   "cell_type": "markdown",
   "metadata": {},
   "source": [
    "We can then fit the machine and use it to apply the corresponding *data transformation*:"
   ]
  },
  {
   "cell_type": "code",
   "execution_count": null,
   "metadata": {},
   "outputs": [],
   "source": [
    "fit!(stand)\n",
    "w = transform(stand, v)\n",
    "@show round.(w, digits=2)\n",
    "@show mean(w)\n",
    "@show std(w)"
   ]
  },
  {
   "cell_type": "markdown",
   "metadata": {},
   "source": [
    "In this case, the model also has an inverse transform:"
   ]
  },
  {
   "cell_type": "code",
   "execution_count": null,
   "metadata": {},
   "outputs": [],
   "source": [
    "vv = inverse_transform(stand, w)\n",
    "sum(abs.(vv .- v))"
   ]
  },
  {
   "cell_type": "markdown",
   "metadata": {},
   "source": [
    "---\n",
    "\n",
    "*This notebook was generated using [Literate.jl](https://github.com/fredrikekre/Literate.jl).*"
   ]
  }
 ],
 "metadata": {
  "kernelspec": {
   "display_name": "Julia 1.2.0",
   "language": "julia",
   "name": "julia-1.2"
  },
  "language_info": {
   "file_extension": ".jl",
   "mimetype": "application/julia",
   "name": "julia",
   "version": "1.5.0-DEV.350"
  }
 },
 "nbformat": 4,
 "nbformat_minor": 3
}
