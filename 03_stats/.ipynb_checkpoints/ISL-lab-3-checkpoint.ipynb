{
 "cells": [
  {
   "cell_type": "markdown",
   "metadata": {},
   "source": [
    "## Simple linear regression\n",
    "\n",
    "`MLJ` essentially serves as a unified path to many existing Julia packages each of which provides their own functionalities and models, with their own conventions.\n",
    "\n",
    "The simple linear regression demonstrates this.\n",
    "Several packages offer it (beyond just using the backslash operator): here we will use `MLJLinearModels` but we could also have used `GLM`, `ScikitLearn` etc.\n",
    "\n",
    "To load the model from a given package use `@load ModelName pkg=PackageName`"
   ]
  },
  {
   "cell_type": "code",
   "execution_count": null,
   "metadata": {},
   "outputs": [],
   "source": [
    "using MLJ\n",
    "MLJ.color_off() # hide\n",
    "\n",
    "@load LinearRegressor pkg=MLJLinearModels"
   ]
  },
  {
   "cell_type": "markdown",
   "metadata": {},
   "source": [
    "Note: in order to be able to load this, you **must** have the relevant package in your environment, if you don't, you can always add it (``using Pkg; Pkg.add(\"MLJLinearModels\")``).\n",
    "\n",
    "Let's load the _boston_ data set"
   ]
  },
  {
   "cell_type": "code",
   "execution_count": null,
   "metadata": {},
   "outputs": [],
   "source": [
    "using RDatasets, DataFrames\n",
    "boston = dataset(\"MASS\", \"Boston\")\n",
    "first(boston, 3)"
   ]
  },
  {
   "cell_type": "markdown",
   "metadata": {},
   "source": [
    "Let's get a feel for the data"
   ]
  },
  {
   "cell_type": "code",
   "execution_count": null,
   "metadata": {},
   "outputs": [],
   "source": [
    "describe(boston, :mean, :std, :eltype)"
   ]
  },
  {
   "cell_type": "markdown",
   "metadata": {},
   "source": [
    "So there's no missing value and most variables are encoded as floating point numbers.\n",
    "In MLJ it's important to specify the interpretation of the features (should it be considered as a Continuous feature, as a Count, ...?), see also [this tutorial section](/getting-started/choosing-a-model/#data_and_its_interpretation) on scientific types.\n",
    "\n",
    "Here we will just interpret the integer features as continuous as we will just use a basic linear regression:"
   ]
  },
  {
   "cell_type": "code",
   "execution_count": null,
   "metadata": {},
   "outputs": [],
   "source": [
    "data = coerce(boston, autotype(boston, :discrete_to_continuous));"
   ]
  },
  {
   "cell_type": "markdown",
   "metadata": {},
   "source": [
    "Let's also extract the target variable (`MedV`):"
   ]
  },
  {
   "cell_type": "code",
   "execution_count": null,
   "metadata": {},
   "outputs": [],
   "source": [
    "y = data.MedV\n",
    "X = select(data, Not(:MedV));"
   ]
  },
  {
   "cell_type": "markdown",
   "metadata": {},
   "source": [
    "Let's declare a simple multivariate linear regression model:"
   ]
  },
  {
   "cell_type": "code",
   "execution_count": null,
   "metadata": {},
   "outputs": [],
   "source": [
    "mdl = LinearRegressor()"
   ]
  },
  {
   "cell_type": "markdown",
   "metadata": {},
   "source": [
    "First let's do a very simple univariate regression, in order to fit it on the data, we need to wrap it in a _machine_ which, in MLJ, is the composition of a model and data to apply the model on:"
   ]
  },
  {
   "cell_type": "code",
   "execution_count": null,
   "metadata": {},
   "outputs": [],
   "source": [
    "X_uni = select(X, :LStat) # only a single feature\n",
    "mach_uni = machine(mdl, X_uni, y)\n",
    "fit!(mach_uni)"
   ]
  },
  {
   "cell_type": "markdown",
   "metadata": {},
   "source": [
    "You can then retrieve the  fitted parameters using `fitted_params`:"
   ]
  },
  {
   "cell_type": "code",
   "execution_count": null,
   "metadata": {},
   "outputs": [],
   "source": [
    "fp = fitted_params(mach_uni)\n",
    "@show round.(fp.coefs, sigdigits=3)\n",
    "@show round(fp.intercept, sigdigits=3)"
   ]
  },
  {
   "cell_type": "markdown",
   "metadata": {},
   "source": [
    "You can also visualise this"
   ]
  },
  {
   "cell_type": "code",
   "execution_count": null,
   "metadata": {},
   "outputs": [],
   "source": [
    "using PyPlot\n",
    "\n",
    "figure(figsize=(8,6))\n",
    "plot(X.LStat, y, ls=\"none\", marker=\"o\")\n",
    "Xnew = (LStat = collect(range(extrema(X.LStat)..., length=100)),)\n",
    "plot(Xnew.LStat, predict(mach_uni, Xnew))\n",
    "\n",
    "savefig(joinpath(@OUTPUT, \"ISL-lab-3-lm1.svg\")) # hide"
   ]
  },
  {
   "cell_type": "markdown",
   "metadata": {},
   "source": [
    "\\figalt{Univariate regression}{ISL-lab-3-lm1.svg}"
   ]
  },
  {
   "cell_type": "markdown",
   "metadata": {},
   "source": [
    "The  multivariate case is very similar"
   ]
  },
  {
   "cell_type": "code",
   "execution_count": null,
   "metadata": {},
   "outputs": [],
   "source": [
    "mach = machine(mdl, X, y)\n",
    "fit!(mach)\n",
    "\n",
    "fp = fitted_params(mach)\n",
    "@show round.(fp.coefs[1:3], sigdigits=3)\n",
    "@show round(fp.intercept, sigdigits=3)"
   ]
  },
  {
   "cell_type": "markdown",
   "metadata": {},
   "source": [
    "The coefficients here correspond to each of the feature"
   ]
  },
  {
   "cell_type": "code",
   "execution_count": null,
   "metadata": {},
   "outputs": [],
   "source": [
    "println(rpad(\" Feature\", 11), \"| \", \"Coefficient\")\n",
    "println(\"-\"^24)\n",
    "for (i, name) in enumerate(names(X))\n",
    "    println(rpad(\"$name\", 11), \"| \", round(fp.coefs[i], sigdigits=3))\n",
    "end\n",
    "println(rpad(\"Intercept\", 11), \"| \", round(fp.intercept, sigdigits=3))"
   ]
  },
  {
   "cell_type": "markdown",
   "metadata": {},
   "source": [
    "You can use the `machine` in order to _predict_ values as well and, for instance, compute the root mean squared error:"
   ]
  },
  {
   "cell_type": "code",
   "execution_count": null,
   "metadata": {},
   "outputs": [],
   "source": [
    "ŷ = predict(mach, X)\n",
    "round(rms(ŷ, y), sigdigits=4)"
   ]
  },
  {
   "cell_type": "markdown",
   "metadata": {},
   "source": [
    "Let's see what the residuals look like"
   ]
  },
  {
   "cell_type": "code",
   "execution_count": null,
   "metadata": {},
   "outputs": [],
   "source": [
    "figure(figsize=(8,6))\n",
    "res = ŷ .- y\n",
    "stem(res)\n",
    "\n",
    "savefig(joinpath(@OUTPUT, \"ISL-lab-3-res.svg\")) # hide"
   ]
  },
  {
   "cell_type": "markdown",
   "metadata": {},
   "source": [
    "\\figalt{Plot of the residuals}{ISL-lab-3-res.svg}"
   ]
  },
  {
   "cell_type": "markdown",
   "metadata": {},
   "source": [
    "Maybe that a histogram is more appropriate here"
   ]
  },
  {
   "cell_type": "code",
   "execution_count": null,
   "metadata": {},
   "outputs": [],
   "source": [
    "figure(figsize=(8,6))\n",
    "hist(res, density=true)\n",
    "\n",
    "savefig(joinpath(@OUTPUT, \"ISL-lab-3-res2.svg\")) # hide"
   ]
  },
  {
   "cell_type": "markdown",
   "metadata": {},
   "source": [
    "\\figalt{Histogram of the residuals}{ISL-lab-3-res2.svg}"
   ]
  },
  {
   "cell_type": "markdown",
   "metadata": {},
   "source": [
    "## Interaction and transformation\n",
    "\n",
    "Let's say we want to also consider an interaction term of `lstat` and `age` taken together.\n",
    "To do this, just create a new dataframe with an additional column corresponding to the interaction term:"
   ]
  },
  {
   "cell_type": "code",
   "execution_count": null,
   "metadata": {},
   "outputs": [],
   "source": [
    "X2 = hcat(X, X.LStat .* X.Age);"
   ]
  },
  {
   "cell_type": "markdown",
   "metadata": {},
   "source": [
    "So here we have a DataFrame with one extra column corresponding to the elementwise products between `:LStat` and `Age`.\n",
    "DataFrame gives this a default name (`:x1`) which we can change:"
   ]
  },
  {
   "cell_type": "code",
   "execution_count": null,
   "metadata": {},
   "outputs": [],
   "source": [
    "rename!(X2, :x1 => :interaction);"
   ]
  },
  {
   "cell_type": "markdown",
   "metadata": {},
   "source": [
    "Ok cool, now let's try the linear regression again"
   ]
  },
  {
   "cell_type": "code",
   "execution_count": null,
   "metadata": {},
   "outputs": [],
   "source": [
    "mach = machine(mdl, X2, y)\n",
    "fit!(mach)\n",
    "ŷ = predict(mach, X2)\n",
    "round(rms(ŷ, y), sigdigits=4)"
   ]
  },
  {
   "cell_type": "markdown",
   "metadata": {},
   "source": [
    "We get slightly better results but nothing spectacular.\n",
    "\n",
    "Let's get back to the lab where they consider regressing the target variable on `lstat` and `lstat^2`; again, it's essentially a case of defining the right DataFrame:"
   ]
  },
  {
   "cell_type": "code",
   "execution_count": null,
   "metadata": {},
   "outputs": [],
   "source": [
    "X3 = hcat(X.LStat, X.LStat.^2)\n",
    "mach = machine(mdl, X3, y)\n",
    "fit!(mach)\n",
    "ŷ = predict(mach, X3)\n",
    "round(rms(ŷ, y), sigdigits=4)"
   ]
  },
  {
   "cell_type": "markdown",
   "metadata": {},
   "source": [
    "which again, we can visualise:"
   ]
  },
  {
   "cell_type": "code",
   "execution_count": null,
   "metadata": {},
   "outputs": [],
   "source": [
    "Xnew = (LStat = Xnew.LStat, LStat2 = Xnew.LStat.^2)\n",
    "\n",
    "figure(figsize=(8,6))\n",
    "plot(X.LStat, y, ls=\"none\", marker=\"o\")\n",
    "plot(Xnew.LStat, predict(mach, Xnew))\n",
    "\n",
    "savefig(joinpath(@OUTPUT, \"ISL-lab-3-lreg.svg\")) # hide"
   ]
  },
  {
   "cell_type": "markdown",
   "metadata": {},
   "source": [
    "\\figalt{Polynomial regression}{ISL-lab-3-lreg.svg}"
   ]
  },
  {
   "cell_type": "code",
   "execution_count": null,
   "metadata": {},
   "outputs": [],
   "source": [
    "PyPlot.close_figs() # hide"
   ]
  },
  {
   "cell_type": "markdown",
   "metadata": {},
   "source": [
    "---\n",
    "\n",
    "*This notebook was generated using [Literate.jl](https://github.com/fredrikekre/Literate.jl).*"
   ]
  }
 ],
 "metadata": {
  "kernelspec": {
   "display_name": "Julia 1.2.0",
   "language": "julia",
   "name": "julia-1.2"
  },
  "language_info": {
   "file_extension": ".jl",
   "mimetype": "application/julia",
   "name": "julia",
   "version": "1.5.0-DEV.350"
  }
 },
 "nbformat": 4,
 "nbformat_minor": 3
}
