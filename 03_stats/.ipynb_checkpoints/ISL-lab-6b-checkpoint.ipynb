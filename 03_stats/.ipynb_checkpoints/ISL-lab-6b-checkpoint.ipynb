{
 "cells": [
  {
   "cell_type": "markdown",
   "metadata": {},
   "source": [
    "## Getting started"
   ]
  },
  {
   "cell_type": "code",
   "execution_count": null,
   "metadata": {},
   "outputs": [],
   "source": [
    "using MLJ, RDatasets, PrettyPrinting\n",
    "MLJ.color_off() # hide\n",
    "import Distributions\n",
    "const D = Distributions\n",
    "\n",
    "@load LinearRegressor pkg=MLJLinearModels\n",
    "@load RidgeRegressor pkg=MLJLinearModels\n",
    "@load LassoRegressor pkg=MLJLinearModels\n",
    "\n",
    "hitters = dataset(\"ISLR\", \"Hitters\")\n",
    "@show size(hitters)\n",
    "names(hitters) |> pprint"
   ]
  },
  {
   "cell_type": "markdown",
   "metadata": {},
   "source": [
    "The target is `Salary`"
   ]
  },
  {
   "cell_type": "code",
   "execution_count": null,
   "metadata": {},
   "outputs": [],
   "source": [
    "y, X = unpack(hitters, ==(:Salary), col->true);"
   ]
  },
  {
   "cell_type": "markdown",
   "metadata": {},
   "source": [
    "It has missing values which we will just ignore:"
   ]
  },
  {
   "cell_type": "code",
   "execution_count": null,
   "metadata": {},
   "outputs": [],
   "source": [
    "no_miss = .!ismissing.(y)\n",
    "y = collect(skipmissing(y))\n",
    "X = X[no_miss, :]\n",
    "train, test = partition(eachindex(y), 0.5, shuffle=true, rng=424);"
   ]
  },
  {
   "cell_type": "code",
   "execution_count": null,
   "metadata": {},
   "outputs": [],
   "source": [
    "using PyPlot\n",
    "\n",
    "figure(figsize=(8,6))\n",
    "plot(y, ls=\"none\", marker=\"o\")\n",
    "\n",
    "xticks(fontsize=12); yticks(fontsize=12)\n",
    "xlabel(\"Index\", fontsize=14), ylabel(\"Salary\", fontsize=14)\n",
    "\n",
    "savefig(joinpath(@OUTPUT, \"ISL-lab-6-g1.svg\")) # hide"
   ]
  },
  {
   "cell_type": "markdown",
   "metadata": {},
   "source": [
    "\\figalt{Salary}{ISL-lab-6-g1.svg}"
   ]
  },
  {
   "cell_type": "markdown",
   "metadata": {},
   "source": [
    "That looks quite skewed, let's have a look at a histogram:"
   ]
  },
  {
   "cell_type": "code",
   "execution_count": null,
   "metadata": {},
   "outputs": [],
   "source": [
    "figure(figsize=(8,6))\n",
    "hist(y, bins=50, density=true)\n",
    "\n",
    "xticks(fontsize=12); yticks(fontsize=12)\n",
    "xlabel(\"Salary\", fontsize=14); ylabel(\"Density\", fontsize=14)\n",
    "\n",
    "edfit = D.fit_mle(D.Exponential, y)\n",
    "xx = range(minimum(y), 2500, length=100)\n",
    "yy = pdf.(edfit, xx)\n",
    "plot(xx, yy, lw=3, label=\"Exponential distribution fit\")\n",
    "\n",
    "legend(fontsize=12)\n",
    "\n",
    "savefig(joinpath(@OUTPUT, \"ISL-lab-6-g2.svg\")) # hide"
   ]
  },
  {
   "cell_type": "markdown",
   "metadata": {},
   "source": [
    "\\figalt{Distribution of salary}{ISL-lab-6-g2.svg}\n",
    "\n",
    "### Data preparation\n",
    "\n",
    "Most features are currently encoded as integers but we will consider them as continuous"
   ]
  },
  {
   "cell_type": "code",
   "execution_count": null,
   "metadata": {},
   "outputs": [],
   "source": [
    "Xc = coerce(X, autotype(X, rules=(:discrete_to_continuous,)))\n",
    "scitype(Xc)"
   ]
  },
  {
   "cell_type": "markdown",
   "metadata": {},
   "source": [
    "There're a few features that are categorical which we'll one-hot-encode."
   ]
  },
  {
   "cell_type": "markdown",
   "metadata": {},
   "source": [
    "## Ridge pipeline\n",
    "### Baseline\n",
    "\n",
    "Let's first fit a simple pipeline with a standardizer, a one-hot-encoder and a basic linear regression:"
   ]
  },
  {
   "cell_type": "code",
   "execution_count": null,
   "metadata": {},
   "outputs": [],
   "source": [
    "@pipeline RegPipe(std = Standardizer(),\n",
    "                  hot = OneHotEncoder(),\n",
    "                  reg = LinearRegressor())\n",
    "\n",
    "model = RegPipe()\n",
    "pipe  = machine(model, Xc, y)\n",
    "fit!(pipe, rows=train)\n",
    "ŷ = predict(pipe, rows=test)\n",
    "round(rms(ŷ, y[test])^2, sigdigits=4)"
   ]
  },
  {
   "cell_type": "markdown",
   "metadata": {},
   "source": [
    "Let's get a feel for how we're doing"
   ]
  },
  {
   "cell_type": "code",
   "execution_count": null,
   "metadata": {},
   "outputs": [],
   "source": [
    "figure(figsize=(8,6))\n",
    "\n",
    "res = ŷ .- y[test]\n",
    "stem(res)\n",
    "\n",
    "xticks(fontsize=12); yticks(fontsize=12)\n",
    "xlabel(\"Index\", fontsize=14); ylabel(\"Residual (ŷ - y)\", fontsize=14)\n",
    "\n",
    "ylim([-1300, 1000])\n",
    "\n",
    "savefig(joinpath(@OUTPUT, \"ISL-lab-6-g3.svg\")) # hide"
   ]
  },
  {
   "cell_type": "markdown",
   "metadata": {},
   "source": [
    "\\figalt{Residuals}{ISL-lab-6-g3.svg}"
   ]
  },
  {
   "cell_type": "code",
   "execution_count": null,
   "metadata": {},
   "outputs": [],
   "source": [
    "figure(figsize=(8,6))\n",
    "hist(res, bins=30, density=true, color=\"green\")\n",
    "\n",
    "xx = range(-1100, 1100, length=100)\n",
    "ndfit = D.fit_mle(D.Normal, res)\n",
    "lfit  = D.fit_mle(D.Laplace, res)\n",
    "\n",
    "plot(xx, pdf.(ndfit, xx), lw=3, color=\"orange\", label=\"Normal fit\")\n",
    "plot(xx, pdf.(lfit, xx), lw=3, color=\"magenta\", label=\"Laplace fit\")\n",
    "\n",
    "legend(fontsize=12)\n",
    "\n",
    "xticks(fontsize=12); yticks(fontsize=12)\n",
    "xlabel(\"Residual (ŷ - y)\", fontsize=14); ylabel(\"Density\", fontsize=14)\n",
    "xlim([-1100, 1100])\n",
    "\n",
    "savefig(joinpath(@OUTPUT, \"ISL-lab-6-g4.svg\")) # hide"
   ]
  },
  {
   "cell_type": "markdown",
   "metadata": {},
   "source": [
    "\\figalt{Distribution of residuals}{ISL-lab-6-g4.svg}"
   ]
  },
  {
   "cell_type": "markdown",
   "metadata": {},
   "source": [
    "### Basic Ridge\n",
    "\n",
    "Let's now swap the linear regressor for a Ridge one without specifying the penalty (`1` by default):"
   ]
  },
  {
   "cell_type": "code",
   "execution_count": null,
   "metadata": {},
   "outputs": [],
   "source": [
    "pipe.model.reg = RidgeRegressor()\n",
    "fit!(pipe, rows=train)\n",
    "ŷ = predict(pipe, rows=test)\n",
    "round(rms(ŷ, y[test])^2, sigdigits=4)"
   ]
  },
  {
   "cell_type": "markdown",
   "metadata": {},
   "source": [
    "Ok that's a bit better but surely we can do better with an appropriate selection of the hyperparameter."
   ]
  },
  {
   "cell_type": "markdown",
   "metadata": {},
   "source": [
    "### Cross validating"
   ]
  },
  {
   "cell_type": "markdown",
   "metadata": {},
   "source": [
    "What penalty should you use? Let's do a simple CV to try  to find out:"
   ]
  },
  {
   "cell_type": "code",
   "execution_count": null,
   "metadata": {},
   "outputs": [],
   "source": [
    "r  = range(model, :(reg.lambda), lower=1e-2, upper=100_000, scale=:log10)\n",
    "tm = TunedModel(model=model, ranges=r, tuning=Grid(resolution=50),\n",
    "                resampling=CV(nfolds=3, rng=4141), measure=rms)\n",
    "mtm = machine(tm, Xc, y)\n",
    "fit!(mtm, rows=train)\n",
    "\n",
    "best_mdl = fitted_params(mtm).best_model\n",
    "round(best_mdl.reg.lambda, sigdigits=4)"
   ]
  },
  {
   "cell_type": "markdown",
   "metadata": {},
   "source": [
    "right, and  with that we get:"
   ]
  },
  {
   "cell_type": "code",
   "execution_count": null,
   "metadata": {},
   "outputs": [],
   "source": [
    "ŷ = predict(mtm, rows=test)\n",
    "round(rms(ŷ, y[test])^2, sigdigits=4)"
   ]
  },
  {
   "cell_type": "markdown",
   "metadata": {},
   "source": [
    "Let's see:"
   ]
  },
  {
   "cell_type": "code",
   "execution_count": null,
   "metadata": {},
   "outputs": [],
   "source": [
    "figure(figsize=(8,6))\n",
    "\n",
    "res = ŷ .- y[test]\n",
    "stem(res)\n",
    "\n",
    "xticks(fontsize=12); yticks(fontsize=12)\n",
    "xlabel(\"Index\", fontsize=14); ylabel(\"Residual (ŷ - y)\", fontsize=14)\n",
    "\n",
    "ylim([-1300, 1000])\n",
    "\n",
    "savefig(joinpath(@OUTPUT, \"ISL-lab-6-g5.svg\")) # hide"
   ]
  },
  {
   "cell_type": "markdown",
   "metadata": {},
   "source": [
    "\\figalt{Ridge residuals}{ISL-lab-6-g5.svg}\n",
    "\n",
    "You can compare that with the residuals obtained earlier."
   ]
  },
  {
   "cell_type": "markdown",
   "metadata": {},
   "source": [
    "## Lasso pipeline\n",
    "\n",
    "Let's do the same as above but using a Lasso model and adjusting the range a bit:"
   ]
  },
  {
   "cell_type": "code",
   "execution_count": null,
   "metadata": {},
   "outputs": [],
   "source": [
    "mtm.model.model.reg = LassoRegressor()\n",
    "mtm.model.range = range(model, :(reg.lambda), lower=500, upper=100_000, scale=:log10)\n",
    "fit!(mtm, rows=train)\n",
    "\n",
    "best_mdl = fitted_params(mtm).best_model\n",
    "round(best_mdl.reg.lambda, sigdigits=4)"
   ]
  },
  {
   "cell_type": "markdown",
   "metadata": {},
   "source": [
    "Ok and let's see how that does:"
   ]
  },
  {
   "cell_type": "code",
   "execution_count": null,
   "metadata": {},
   "outputs": [],
   "source": [
    "ŷ = predict(mtm, rows=test)\n",
    "round(rms(ŷ, y[test])^2, sigdigits=4)"
   ]
  },
  {
   "cell_type": "markdown",
   "metadata": {},
   "source": [
    "Pretty good! and the parameters are reasonably sparse as expected:"
   ]
  },
  {
   "cell_type": "code",
   "execution_count": null,
   "metadata": {},
   "outputs": [],
   "source": [
    "coefs, intercept = fitted_params(mtm.fitresult.fitresult.machine)\n",
    "round.(coefs, sigdigits=2)"
   ]
  },
  {
   "cell_type": "markdown",
   "metadata": {},
   "source": [
    "with around 50% sparsity:"
   ]
  },
  {
   "cell_type": "code",
   "execution_count": null,
   "metadata": {},
   "outputs": [],
   "source": [
    "sum(coefs .≈ 0) / length(coefs)"
   ]
  },
  {
   "cell_type": "markdown",
   "metadata": {},
   "source": [
    "Let's visualise this:"
   ]
  },
  {
   "cell_type": "code",
   "execution_count": null,
   "metadata": {},
   "outputs": [],
   "source": [
    "figure(figsize=(8,6))\n",
    "stem(coefs)\n",
    "\n",
    "# name of the features including one-hot-encoded ones\n",
    "all_names = [:AtBat, :Hits, :HmRun, :Runs, :RBI, :Walks, :Years,\n",
    "             :CAtBat, :CHits, :CHmRun, :CRuns, :CRBI, :CWalks,\n",
    "             :League__A, :League__N, :Div_E, :Div_W,\n",
    "             :PutOuts, :Assists, :Errors, :NewLeague_A, :NewLeague_N]\n",
    "\n",
    "idxshow = collect(1:length(coefs))[abs.(coefs) .> 10]\n",
    "xticks(idxshow .- 1, all_names[idxshow], rotation=45, fontsize=12)\n",
    "yticks(fontsize=12)\n",
    "ylabel(\"Amplitude\", fontsize=14)\n",
    "\n",
    "savefig(joinpath(@OUTPUT, \"ISL-lab-6-g6.svg\")) # hide"
   ]
  },
  {
   "cell_type": "markdown",
   "metadata": {},
   "source": [
    "\\figalt{Lasso coefficients}{ISL-lab-6-g6.svg}"
   ]
  },
  {
   "cell_type": "markdown",
   "metadata": {},
   "source": [
    "## Elastic net pipeline"
   ]
  },
  {
   "cell_type": "code",
   "execution_count": null,
   "metadata": {},
   "outputs": [],
   "source": [
    "@load ElasticNetRegressor pkg=MLJLinearModels\n",
    "\n",
    "mtm.model.model.reg = ElasticNetRegressor()\n",
    "mtm.model.range = [range(model, :(reg.lambda), lower=0.1, upper=100, scale=:log10),\n",
    "                    range(model, :(reg.gamma),  lower=500, upper=10_000, scale=:log10)]\n",
    "mtm.model.tuning = Grid(resolution=10)\n",
    "fit!(mtm, rows=train)\n",
    "\n",
    "best_mdl = fitted_params(mtm).best_model\n",
    "@show round(best_mdl.reg.lambda, sigdigits=4)\n",
    "@show round(best_mdl.reg.gamma, sigdigits=4)"
   ]
  },
  {
   "cell_type": "markdown",
   "metadata": {},
   "source": [
    "And it's not too bad in terms of accuracy either"
   ]
  },
  {
   "cell_type": "code",
   "execution_count": null,
   "metadata": {},
   "outputs": [],
   "source": [
    "ŷ = predict(mtm, rows=test)\n",
    "round(rms(ŷ, y[test])^2, sigdigits=4)"
   ]
  },
  {
   "cell_type": "markdown",
   "metadata": {},
   "source": [
    "But the simple ridge regression seems to work best here."
   ]
  },
  {
   "cell_type": "code",
   "execution_count": null,
   "metadata": {},
   "outputs": [],
   "source": [
    "PyPlot.close_figs() # hide"
   ]
  },
  {
   "cell_type": "markdown",
   "metadata": {},
   "source": [
    "---\n",
    "\n",
    "*This notebook was generated using [Literate.jl](https://github.com/fredrikekre/Literate.jl).*"
   ]
  }
 ],
 "metadata": {
  "kernelspec": {
   "display_name": "Julia 1.2.0",
   "language": "julia",
   "name": "julia-1.2"
  },
  "language_info": {
   "file_extension": ".jl",
   "mimetype": "application/julia",
   "name": "julia",
   "version": "1.5.0-DEV.350"
  }
 },
 "nbformat": 4,
 "nbformat_minor": 3
}
