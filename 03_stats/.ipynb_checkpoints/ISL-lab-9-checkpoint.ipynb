{
 "cells": [
  {
   "cell_type": "markdown",
   "metadata": {},
   "source": [
    "## Getting started"
   ]
  },
  {
   "cell_type": "code",
   "execution_count": null,
   "metadata": {},
   "outputs": [],
   "source": [
    "using MLJ, RDatasets, PrettyPrinting, Random\n",
    "MLJ.color_off() # hide"
   ]
  },
  {
   "cell_type": "markdown",
   "metadata": {},
   "source": [
    "We start by generating a 2D cloud of points"
   ]
  },
  {
   "cell_type": "code",
   "execution_count": null,
   "metadata": {},
   "outputs": [],
   "source": [
    "Random.seed!(3203)\n",
    "X = randn(20, 2)\n",
    "y = vcat(-ones(10), ones(10))"
   ]
  },
  {
   "cell_type": "markdown",
   "metadata": {},
   "source": [
    "which we can visualise"
   ]
  },
  {
   "cell_type": "code",
   "execution_count": null,
   "metadata": {},
   "outputs": [],
   "source": [
    "using PyPlot\n",
    "figure(figsize=(8,6))\n",
    "\n",
    "ym1 = y .== -1\n",
    "ym2 = .!ym1\n",
    "plot(X[ym1, 1], X[ym1, 2], ls=\"none\", marker=\"o\")\n",
    "plot(X[ym2, 1], X[ym2, 2], ls=\"none\", marker=\"x\")\n",
    "\n",
    "savefig(joinpath(@OUTPUT, \"ISL-lab-9-g1.svg\")) # hide"
   ]
  },
  {
   "cell_type": "markdown",
   "metadata": {},
   "source": [
    "\\figalt{Toy points}{ISL-lab-9-g1.svg}"
   ]
  },
  {
   "cell_type": "markdown",
   "metadata": {},
   "source": [
    "let's wrap the data as a table:"
   ]
  },
  {
   "cell_type": "code",
   "execution_count": null,
   "metadata": {},
   "outputs": [],
   "source": [
    "X = MLJ.table(X)\n",
    "y = categorical(y);"
   ]
  },
  {
   "cell_type": "markdown",
   "metadata": {},
   "source": [
    "and fit a SVM classifier"
   ]
  },
  {
   "cell_type": "code",
   "execution_count": null,
   "metadata": {},
   "outputs": [],
   "source": [
    "@load SVC pkg=LIBSVM\n",
    "\n",
    "svc_mdl = SVC()\n",
    "svc = machine(svc_mdl, X, y)\n",
    "\n",
    "fit!(svc);"
   ]
  },
  {
   "cell_type": "markdown",
   "metadata": {},
   "source": [
    "As usual we can check how it performs"
   ]
  },
  {
   "cell_type": "code",
   "execution_count": null,
   "metadata": {},
   "outputs": [],
   "source": [
    "ypred = predict(svc, X)\n",
    "misclassification_rate(ypred, y)"
   ]
  },
  {
   "cell_type": "markdown",
   "metadata": {},
   "source": [
    "Not bad."
   ]
  },
  {
   "cell_type": "markdown",
   "metadata": {},
   "source": [
    "### Basic tuning"
   ]
  },
  {
   "cell_type": "markdown",
   "metadata": {},
   "source": [
    "As usual we could tune the model, for instance the penalty encoding the tradeoff between margin width and misclassification:"
   ]
  },
  {
   "cell_type": "code",
   "execution_count": null,
   "metadata": {},
   "outputs": [],
   "source": [
    "rc = range(svc_mdl, :cost, lower=0.1, upper=5)\n",
    "tm = TunedModel(model=svc_mdl, ranges=[rc], tuning=Grid(resolution=10),\n",
    "                resampling=CV(nfolds=3, rng=33), measure=misclassification_rate)\n",
    "mtm = machine(tm, X, y)\n",
    "\n",
    "fit!(mtm)\n",
    "\n",
    "ypred = predict(mtm, X)\n",
    "misclassification_rate(ypred, y)"
   ]
  },
  {
   "cell_type": "markdown",
   "metadata": {},
   "source": [
    "You could also change the kernel etc."
   ]
  },
  {
   "cell_type": "code",
   "execution_count": null,
   "metadata": {},
   "outputs": [],
   "source": [
    "PyPlot.close_figs() # hide"
   ]
  },
  {
   "cell_type": "markdown",
   "metadata": {},
   "source": [
    "---\n",
    "\n",
    "*This notebook was generated using [Literate.jl](https://github.com/fredrikekre/Literate.jl).*"
   ]
  }
 ],
 "metadata": {
  "kernelspec": {
   "display_name": "Julia 1.2.0",
   "language": "julia",
   "name": "julia-1.2"
  },
  "language_info": {
   "file_extension": ".jl",
   "mimetype": "application/julia",
   "name": "julia",
   "version": "1.5.0-DEV.350"
  }
 },
 "nbformat": 4,
 "nbformat_minor": 3
}
