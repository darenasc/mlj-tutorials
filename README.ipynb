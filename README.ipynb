{
 "cells": [
  {
   "cell_type": "markdown",
   "metadata": {},
   "source": [
    "# MLJ tutorials\n",
    "Copy of MLJ tutorials https://alan-turing-institute.github.io/MLJTutorials with only notebooks. \n",
    "\n",
    "## Data basics\n",
    "\n",
    "* [Loading data](./01_data_basics/D0-loading.ipynb)\n",
    "* [Data Frames](./01_data_basics/D0-dataframe.ipynb)\n",
    "* [Categorical Arrays](./01_data_basics/D0-loading.ipynb)\n",
    "* [Scientific Type](./01_data_basics/D0-scitype.ipynb)\n",
    "\n",
    "## Getting started\n",
    "\n",
    "* [Choosing a model](./02_models/A-model-choice.ipynb)\n",
    "* [Fit, predict, transform](./02_models/A-fit-predict.ipynb)\n",
    "* [Model tuning](./02_models/A-model-tuning.ipynb)\n",
    "* [Ensembles](./02_models/A-ensembles.ipynb)\n",
    "* [Ensembles (2)](./02_models/A-ensembles-2.ipynb)\n",
    "* [Ensembles (3)](./02_models/A-ensembles-3.ipynb)\n",
    "* [Composing models](./02_models/A-composing-models.ipynb)\n",
    "* [Learning networks](./02_models/A-learning-networks.ipynb)\n",
    "* [Learning networks (2)](./02_models/A-learning-networks-2.ipynb)\n",
    "* [Stacking](./02_models/A-learning-networks-3.ipynb)\n",
    "\n",
    "## Intro to Stats Learning\n",
    "\n",
    "* [Lab 2](./03_stats/ISL-lab-2.ipynb)\n",
    "* [Lab 3](./03_stats/ISL-lab-3.ipynb)\n",
    "* [Lab 4](./03_stats/ISL-lab-4.ipynb)\n",
    "* [Lab 5](./03_stats/ISL-lab-5.ipynb)\n",
    "* [Lab 6b](./03_stats/ISL-lab-6b.ipynb)\n",
    "* [Lab 8](./03_stats/ISL-lab-8.ipynb)\n",
    "* [Lab 9](./03_stats/ISL-lab-9.ipynb)\n",
    "* [Lab 10](./03_stats/ISL-lab-10.ipynb)\n",
    "\n",
    "## End to end examples\n",
    "\n",
    "* [AMES](./04_end-to-end/EX-AMES.ipynb)\n",
    "* [Wine](./04_end-to-end/EX-wine.ipynb)\n",
    "* [Crabs (XGB)](./04_end-to-end/EX-crabs-xgb.ipynb)\n",
    "* [Horse](./04_end-to-end/EX-horse.ipynb)\n",
    "* [King County Houses](./04_end-to-end/EX-housekingcounty.ipynb)"
   ]
  },
  {
   "cell_type": "code",
   "execution_count": null,
   "metadata": {},
   "outputs": [],
   "source": []
  }
 ],
 "metadata": {
  "kernelspec": {
   "display_name": "Julia 1.2.0",
   "language": "julia",
   "name": "julia-1.2"
  },
  "language_info": {
   "file_extension": ".jl",
   "mimetype": "application/julia",
   "name": "julia",
   "version": "1.2.0"
  }
 },
 "nbformat": 4,
 "nbformat_minor": 2
}
